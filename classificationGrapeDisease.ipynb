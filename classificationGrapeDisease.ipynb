{
 "cells": [
  {
   "cell_type": "code",
   "execution_count": 2,
   "metadata": {},
   "outputs": [],
   "source": [
    "import os\n",
    "import tensorflow as tf\n",
    "from tensorflow.keras.preprocessing.image import ImageDataGenerator\n",
    "\n",
    "train_dir = 'E:\\\\Document\\\\HK2-2022-2023\\\\DIPR\\\\Project\\\\research\\\\GrapeDiseaseDataset\\\\OriginalData\\\\train'\n",
    "test_dir = 'E:\\\\Document\\\\HK2-2022-2023\\\\DIPR\\\\Project\\\\research\\\\GrapeDiseaseDataset\\\\OriginalData\\\\test'\n",
    "\n"
   ]
  },
  {
   "cell_type": "code",
   "execution_count": 2,
   "metadata": {},
   "outputs": [
    {
     "name": "stdout",
     "output_type": "stream",
     "text": [
      "Found 7222 images belonging to 4 classes.\n"
     ]
    }
   ],
   "source": [
    "train_datagen = ImageDataGenerator(\n",
    "    rescale=1./255,\n",
    "    rotation_range=20,\n",
    "    width_shift_range=0.2,\n",
    "    height_shift_range=0.2,\n",
    "    shear_range=0.2,\n",
    "    zoom_range=0.2,\n",
    "    horizontal_flip=True,\n",
    "    fill_mode='nearest'\n",
    ")\n",
    "train_generator = train_datagen.flow_from_directory(\n",
    "    train_dir,\n",
    "    target_size=(256, 256),\n",
    "    batch_size=32,\n",
    "    class_mode='categorical'\n",
    ")"
   ]
  },
  {
   "cell_type": "code",
   "execution_count": 3,
   "metadata": {},
   "outputs": [
    {
     "name": "stdout",
     "output_type": "stream",
     "text": [
      "Found 1805 images belonging to 4 classes.\n"
     ]
    }
   ],
   "source": [
    "test_datagen = ImageDataGenerator(rescale=1./255)\n",
    "\n",
    "test_generator = test_datagen.flow_from_directory(\n",
    "    test_dir,\n",
    "    target_size=(256, 256),\n",
    "    batch_size=32,\n",
    "    class_mode='categorical'\n",
    ")"
   ]
  },
  {
   "attachments": {},
   "cell_type": "markdown",
   "metadata": {},
   "source": [
    "# First test model"
   ]
  },
  {
   "cell_type": "code",
   "execution_count": null,
   "metadata": {},
   "outputs": [],
   "source": [
    "model = None\n",
    "model = tf.keras.Sequential([\n",
    "    tf.keras.layers.Conv2D(32, (3,3), activation='relu', input_shape=(256, 256, 3)),\n",
    "    tf.keras.layers.MaxPooling2D(2,2),\n",
    "    tf.keras.layers.Conv2D(64, (3,3), activation='relu'),\n",
    "    tf.keras.layers.MaxPooling2D(2,2),\n",
    "    tf.keras.layers.Conv2D(128, (3,3), activation='relu'),\n",
    "    tf.keras.layers.MaxPooling2D(2,2),\n",
    "    tf.keras.layers.Flatten(),\n",
    "    tf.keras.layers.Dense(128, activation='relu'),\n",
    "    tf.keras.layers.Dense(4, activation='softmax')\n",
    "])\n",
    "model.compile(loss='categorical_crossentropy',\n",
    "              optimizer=tf.keras.optimizers.Adam(),\n",
    "              metrics=['accuracy'])\n"
   ]
  },
  {
   "attachments": {},
   "cell_type": "markdown",
   "metadata": {},
   "source": [
    "# Second test model with dropout"
   ]
  },
  {
   "cell_type": "code",
   "execution_count": 11,
   "metadata": {},
   "outputs": [],
   "source": [
    "model = None\n",
    "model = tf.keras.Sequential([\n",
    "    tf.keras.layers.Conv2D(32, (3,3), activation='relu', input_shape=(256, 256, 3)),\n",
    "    tf.keras.layers.MaxPooling2D(2,2),\n",
    "    tf.keras.layers.Conv2D(64, (3,3), activation='relu'),\n",
    "    tf.keras.layers.MaxPooling2D(2,2),\n",
    "    tf.keras.layers.Conv2D(128, (3,3), activation='relu'),\n",
    "    tf.keras.layers.MaxPooling2D(2,2),\n",
    "    tf.keras.layers.Flatten(),\n",
    "    tf.keras.layers.Dense(128, activation='relu'),\n",
    "    tf.keras.layers.Dropout(0.5),\n",
    "    tf.keras.layers.Dense(4, activation='softmax')\n",
    "])\n",
    "\n",
    "model.compile(loss='categorical_crossentropy',\n",
    "              optimizer=tf.keras.optimizers.Adam(),\n",
    "              metrics=['accuracy'])\n"
   ]
  },
  {
   "attachments": {},
   "cell_type": "markdown",
   "metadata": {},
   "source": [
    "# ResNet 50"
   ]
  },
  {
   "cell_type": "code",
   "execution_count": 6,
   "metadata": {},
   "outputs": [],
   "source": [
    "# Define the input shape\n",
    "input_shape = (256, 256, 3)\n",
    "\n",
    "# Define the number of classes\n",
    "num_classes = 4\n",
    "\n",
    "# Define the model architecture\n",
    "inputs = tf.keras.Input(shape=input_shape)\n",
    "\n",
    "# Stage 1\n",
    "x = tf.keras.layers.Conv2D(64, (7,7), strides=(2,2), padding='same')(inputs)\n",
    "x = tf.keras.layers.BatchNormalization()(x)\n",
    "x = tf.keras.layers.Activation('relu')(x)\n",
    "x = tf.keras.layers.MaxPooling2D(pool_size=(3,3), strides=(2,2), padding='same')(x)\n",
    "\n",
    "# Stage 2\n",
    "shortcut = x\n",
    "x = tf.keras.layers.Conv2D(64, (1,1), strides=(1,1), padding='valid')(x)\n",
    "x = tf.keras.layers.BatchNormalization()(x)\n",
    "x = tf.keras.layers.Activation('relu')(x)\n",
    "x = tf.keras.layers.Conv2D(64, (3,3), strides=(1,1), padding='same')(x)\n",
    "x = tf.keras.layers.BatchNormalization()(x)\n",
    "x = tf.keras.layers.Activation('relu')(x)\n",
    "x = tf.keras.layers.Conv2D(256, (1,1), strides=(1,1), padding='valid')(x)\n",
    "x = tf.keras.layers.BatchNormalization()(x)\n",
    "shortcut = tf.keras.layers.Conv2D(256, (1,1), strides=(1,1), padding='valid')(shortcut)\n",
    "x = tf.keras.layers.Add()([x, shortcut])\n",
    "x = tf.keras.layers.Activation('relu')(x)\n",
    "\n",
    "# Stage 3\n",
    "shortcut = x\n",
    "x = tf.keras.layers.Conv2D(128, (1,1), strides=(2,2), padding='valid')(x)\n",
    "x = tf.keras.layers.BatchNormalization()(x)\n",
    "x = tf.keras.layers.Activation('relu')(x)\n",
    "x = tf.keras.layers.Conv2D(128, (3,3), strides=(1,1), padding='same')(x)\n",
    "x = tf.keras.layers.BatchNormalization()(x)\n",
    "x = tf.keras.layers.Activation('relu')(x)\n",
    "x = tf.keras.layers.Conv2D(512, (1,1), strides=(1,1), padding='valid')(x)\n",
    "x = tf.keras.layers.BatchNormalization()(x)\n",
    "shortcut = tf.keras.layers.Conv2D(512, (1,1), strides=(2,2), padding='valid')(shortcut)\n",
    "if x.shape != shortcut.shape:\n",
    "    shortcut = tf.keras.layers.Conv2D(512, (1,1), strides=(1,1), padding='valid')(shortcut)\n",
    "x = tf.keras.layers.Add()([x, shortcut])\n",
    "x = tf.keras.layers.Activation('relu')(x)\n",
    "\n",
    "#Stage 4\n",
    "shortcut = x\n",
    "x = tf.keras.layers.Conv2D(256, (1,1), strides=(2,2), padding='valid')(x)\n",
    "x = tf.keras.layers.BatchNormalization()(x)\n",
    "x = tf.keras.layers.Activation('relu')(x)\n",
    "x = tf.keras.layers.Conv2D(256, (3,3), strides=(1,1), padding='same')(x)\n",
    "x = tf.keras.layers.BatchNormalization()(x)\n",
    "x = tf.keras.layers.Activation('relu')(x)\n",
    "x = tf.keras.layers.Conv2D(1024, (1,1), strides=(1,1), padding='valid')(x)\n",
    "x = tf.keras.layers.BatchNormalization()(x)\n",
    "shortcut = tf.keras.layers.Conv2D(1024, (1,1), strides=(2,2), padding='valid')(shortcut)\n",
    "if x.shape != shortcut.shape:\n",
    "    shortcut = tf.keras.layers.Conv2D(1024, (1,1), strides=(1,1), padding='valid')(shortcut)\n",
    "x = tf.keras.layers.Add()([x, shortcut])\n",
    "x = tf.keras.layers.Activation('relu')(x)\n",
    "\n",
    "#Stage 5\n",
    "shortcut = x\n",
    "x = tf.keras.layers.Conv2D(512, (1,1), strides=(2,2), padding='valid')(x)\n",
    "x = tf.keras.layers.BatchNormalization()(x)\n",
    "x = tf.keras.layers.Activation('relu')(x)\n",
    "x = tf.keras.layers.Conv2D(512, (3,3), strides=(1,1), padding='same')(x)\n",
    "x = tf.keras.layers.BatchNormalization()(x)\n",
    "x = tf.keras.layers.Activation('relu')(x)\n",
    "x = tf.keras.layers.Conv2D(2048, (1,1), strides=(1,1), padding='valid')(x)\n",
    "x = tf.keras.layers.BatchNormalization()(x)\n",
    "shortcut = tf.keras.layers.Conv2D(2048, (1,1), strides=(2,2), padding='valid')(shortcut)\n",
    "if x.shape != shortcut.shape:\n",
    "    shortcut = tf.keras.layers.Conv2D(2048, (1,1), strides=(1,1), padding='valid')(shortcut)\n",
    "x = tf.keras.layers.Add()([x, shortcut])\n",
    "x = tf.keras.layers.Activation('relu')(x)\n",
    "\n",
    "#Final layers\n",
    "x = tf.keras.layers.AveragePooling2D((7, 7))(x)\n",
    "x = tf.keras.layers.Flatten()(x)\n",
    "x = tf.keras.layers.Dense(4, activation='softmax')(x)\n",
    "\n",
    "#Create Model\n",
    "model = None\n",
    "model = tf.keras.models.Model(inputs=inputs, outputs=x)\n",
    "# Compile the model\n",
    "model.compile(\n",
    "    optimizer=tf.keras.optimizers.Adam(learning_rate=0.001),\n",
    "    loss=tf.keras.losses.CategoricalCrossentropy(from_logits=True),\n",
    "    metrics=['accuracy']\n",
    ")\n"
   ]
  },
  {
   "cell_type": "code",
   "execution_count": 12,
   "metadata": {},
   "outputs": [
    {
     "name": "stdout",
     "output_type": "stream",
     "text": [
      "Epoch 1/50\n",
      "226/226 [==============================] - 152s 664ms/step - loss: 0.7267 - accuracy: 0.6926 - val_loss: 1.0766 - val_accuracy: 0.6947\n",
      "Epoch 2/50\n",
      "226/226 [==============================] - 81s 358ms/step - loss: 0.3640 - accuracy: 0.8682 - val_loss: 1.9559 - val_accuracy: 0.6199\n",
      "Epoch 3/50\n",
      "226/226 [==============================] - 80s 355ms/step - loss: 0.2394 - accuracy: 0.9182 - val_loss: 0.3874 - val_accuracy: 0.8665\n",
      "Epoch 4/50\n",
      "226/226 [==============================] - 81s 356ms/step - loss: 0.1720 - accuracy: 0.9377 - val_loss: 0.1292 - val_accuracy: 0.9524\n",
      "Epoch 5/50\n",
      "226/226 [==============================] - 81s 358ms/step - loss: 0.1709 - accuracy: 0.9396 - val_loss: 0.2794 - val_accuracy: 0.8909\n",
      "Epoch 6/50\n",
      "226/226 [==============================] - 80s 354ms/step - loss: 0.1408 - accuracy: 0.9538 - val_loss: 0.2359 - val_accuracy: 0.9263\n",
      "Epoch 7/50\n",
      "226/226 [==============================] - 81s 356ms/step - loss: 0.1092 - accuracy: 0.9632 - val_loss: 0.3641 - val_accuracy: 0.9125\n",
      "Epoch 8/50\n",
      "226/226 [==============================] - 81s 359ms/step - loss: 0.1010 - accuracy: 0.9672 - val_loss: 0.0488 - val_accuracy: 0.9812\n",
      "Epoch 9/50\n",
      "226/226 [==============================] - 80s 355ms/step - loss: 0.1060 - accuracy: 0.9647 - val_loss: 0.1211 - val_accuracy: 0.9662\n",
      "Epoch 10/50\n",
      "226/226 [==============================] - 80s 354ms/step - loss: 0.0855 - accuracy: 0.9738 - val_loss: 0.0560 - val_accuracy: 0.9817\n",
      "Epoch 11/50\n",
      "226/226 [==============================] - 81s 357ms/step - loss: 0.1052 - accuracy: 0.9643 - val_loss: 0.0361 - val_accuracy: 0.9845\n",
      "Epoch 12/50\n",
      "226/226 [==============================] - 80s 356ms/step - loss: 0.0866 - accuracy: 0.9738 - val_loss: 0.0705 - val_accuracy: 0.9729\n",
      "Epoch 13/50\n",
      "226/226 [==============================] - 80s 355ms/step - loss: 0.0959 - accuracy: 0.9727 - val_loss: 0.0677 - val_accuracy: 0.9784\n",
      "Epoch 14/50\n",
      "226/226 [==============================] - 80s 356ms/step - loss: 0.0730 - accuracy: 0.9763 - val_loss: 0.2549 - val_accuracy: 0.9230\n",
      "Epoch 15/50\n",
      "226/226 [==============================] - 80s 355ms/step - loss: 0.0828 - accuracy: 0.9734 - val_loss: 0.0697 - val_accuracy: 0.9789\n",
      "Epoch 16/50\n",
      "226/226 [==============================] - 81s 360ms/step - loss: 0.0569 - accuracy: 0.9802 - val_loss: 0.0415 - val_accuracy: 0.9884\n",
      "Epoch 17/50\n",
      "226/226 [==============================] - 80s 355ms/step - loss: 0.0456 - accuracy: 0.9856 - val_loss: 0.1140 - val_accuracy: 0.9673\n",
      "Epoch 18/50\n",
      "226/226 [==============================] - 80s 355ms/step - loss: 0.0540 - accuracy: 0.9812 - val_loss: 0.0246 - val_accuracy: 0.9928\n",
      "Epoch 19/50\n",
      "226/226 [==============================] - 80s 355ms/step - loss: 0.0378 - accuracy: 0.9871 - val_loss: 0.0940 - val_accuracy: 0.9684\n",
      "Epoch 20/50\n",
      "226/226 [==============================] - 81s 356ms/step - loss: 0.0358 - accuracy: 0.9882 - val_loss: 0.0825 - val_accuracy: 0.9717\n",
      "Epoch 21/50\n",
      "226/226 [==============================] - 80s 354ms/step - loss: 0.0755 - accuracy: 0.9776 - val_loss: 0.1535 - val_accuracy: 0.9391\n",
      "Epoch 22/50\n",
      "226/226 [==============================] - 80s 356ms/step - loss: 0.0523 - accuracy: 0.9824 - val_loss: 0.0416 - val_accuracy: 0.9850\n",
      "Epoch 23/50\n",
      "226/226 [==============================] - 81s 360ms/step - loss: 0.0429 - accuracy: 0.9859 - val_loss: 0.0593 - val_accuracy: 0.9795\n",
      "Epoch 24/50\n",
      "226/226 [==============================] - 81s 356ms/step - loss: 0.0432 - accuracy: 0.9870 - val_loss: 0.2026 - val_accuracy: 0.9368\n",
      "Epoch 25/50\n",
      "226/226 [==============================] - 80s 354ms/step - loss: 0.0518 - accuracy: 0.9830 - val_loss: 0.0575 - val_accuracy: 0.9828\n",
      "Epoch 26/50\n",
      "226/226 [==============================] - 81s 356ms/step - loss: 0.0398 - accuracy: 0.9881 - val_loss: 0.0383 - val_accuracy: 0.9867\n",
      "Epoch 27/50\n",
      "226/226 [==============================] - 81s 359ms/step - loss: 0.0468 - accuracy: 0.9846 - val_loss: 0.0738 - val_accuracy: 0.9806\n",
      "Epoch 28/50\n",
      "226/226 [==============================] - 80s 355ms/step - loss: 0.0404 - accuracy: 0.9864 - val_loss: 0.0534 - val_accuracy: 0.9801\n",
      "Epoch 29/50\n",
      "226/226 [==============================] - 80s 354ms/step - loss: 0.0326 - accuracy: 0.9906 - val_loss: 0.0242 - val_accuracy: 0.9889\n",
      "Epoch 30/50\n",
      "226/226 [==============================] - 84s 373ms/step - loss: 0.0417 - accuracy: 0.9870 - val_loss: 0.2347 - val_accuracy: 0.9252\n",
      "Epoch 31/50\n",
      "226/226 [==============================] - 83s 366ms/step - loss: 0.0618 - accuracy: 0.9820 - val_loss: 0.0510 - val_accuracy: 0.9823\n",
      "Epoch 32/50\n",
      "226/226 [==============================] - 83s 368ms/step - loss: 0.0508 - accuracy: 0.9839 - val_loss: 0.0886 - val_accuracy: 0.9701\n",
      "Epoch 33/50\n",
      "226/226 [==============================] - 86s 379ms/step - loss: 0.0353 - accuracy: 0.9880 - val_loss: 0.1799 - val_accuracy: 0.9618\n",
      "Epoch 34/50\n",
      "226/226 [==============================] - 89s 395ms/step - loss: 0.0448 - accuracy: 0.9870 - val_loss: 0.0742 - val_accuracy: 0.9712\n",
      "Epoch 35/50\n",
      "226/226 [==============================] - 88s 388ms/step - loss: 0.0209 - accuracy: 0.9925 - val_loss: 0.0281 - val_accuracy: 0.9928\n",
      "Epoch 36/50\n",
      "226/226 [==============================] - 88s 389ms/step - loss: 0.0176 - accuracy: 0.9943 - val_loss: 0.0150 - val_accuracy: 0.9967\n",
      "Epoch 37/50\n",
      "226/226 [==============================] - 85s 378ms/step - loss: 0.0303 - accuracy: 0.9906 - val_loss: 0.0179 - val_accuracy: 0.9956\n",
      "Epoch 38/50\n",
      "226/226 [==============================] - 82s 362ms/step - loss: 0.0388 - accuracy: 0.9902 - val_loss: 0.0137 - val_accuracy: 0.9950\n",
      "Epoch 39/50\n",
      "226/226 [==============================] - 82s 361ms/step - loss: 0.0254 - accuracy: 0.9922 - val_loss: 0.0545 - val_accuracy: 0.9878\n",
      "Epoch 40/50\n",
      "226/226 [==============================] - 86s 380ms/step - loss: 0.0519 - accuracy: 0.9838 - val_loss: 0.0605 - val_accuracy: 0.9856\n",
      "Epoch 41/50\n",
      "226/226 [==============================] - 83s 367ms/step - loss: 0.0199 - accuracy: 0.9952 - val_loss: 0.0079 - val_accuracy: 0.9983\n",
      "Epoch 42/50\n",
      "226/226 [==============================] - 82s 362ms/step - loss: 0.0330 - accuracy: 0.9904 - val_loss: 0.0166 - val_accuracy: 0.9961\n",
      "Epoch 43/50\n",
      "226/226 [==============================] - 82s 362ms/step - loss: 0.0223 - accuracy: 0.9932 - val_loss: 0.0259 - val_accuracy: 0.9922\n",
      "Epoch 44/50\n",
      "226/226 [==============================] - 82s 364ms/step - loss: 0.0262 - accuracy: 0.9922 - val_loss: 0.0304 - val_accuracy: 0.9911\n",
      "Epoch 45/50\n",
      "226/226 [==============================] - 83s 369ms/step - loss: 0.0111 - accuracy: 0.9957 - val_loss: 0.0067 - val_accuracy: 0.9989\n",
      "Epoch 46/50\n",
      "226/226 [==============================] - 84s 371ms/step - loss: 0.0235 - accuracy: 0.9931 - val_loss: 0.0154 - val_accuracy: 0.9950\n",
      "Epoch 47/50\n",
      "226/226 [==============================] - 80s 351ms/step - loss: 0.0273 - accuracy: 0.9921 - val_loss: 0.0636 - val_accuracy: 0.9767\n",
      "Epoch 48/50\n",
      "226/226 [==============================] - 80s 352ms/step - loss: 0.0246 - accuracy: 0.9918 - val_loss: 0.0308 - val_accuracy: 0.9928\n",
      "Epoch 49/50\n",
      "226/226 [==============================] - 80s 353ms/step - loss: 0.0312 - accuracy: 0.9927 - val_loss: 0.0167 - val_accuracy: 0.9934\n",
      "Epoch 50/50\n",
      "226/226 [==============================] - 80s 352ms/step - loss: 0.0279 - accuracy: 0.9910 - val_loss: 0.0240 - val_accuracy: 0.9934\n"
     ]
    }
   ],
   "source": [
    "history = model.fit(\n",
    "    train_generator,\n",
    "    epochs=50,\n",
    "    validation_data=test_generator\n",
    ")\n"
   ]
  },
  {
   "cell_type": "code",
   "execution_count": 13,
   "metadata": {},
   "outputs": [
    {
     "name": "stdout",
     "output_type": "stream",
     "text": [
      "57/57 [==============================] - 3s 55ms/step - loss: 0.0240 - accuracy: 0.9934\n"
     ]
    },
    {
     "data": {
      "text/plain": [
       "[0.023962367326021194, 0.9933518171310425]"
      ]
     },
     "execution_count": 13,
     "metadata": {},
     "output_type": "execute_result"
    }
   ],
   "source": [
    "model.evaluate(test_generator)"
   ]
  },
  {
   "attachments": {},
   "cell_type": "markdown",
   "metadata": {},
   "source": [
    "# Save first model"
   ]
  },
  {
   "cell_type": "code",
   "execution_count": null,
   "metadata": {},
   "outputs": [],
   "source": [
    "# Save the trained model as a .h5 file\n",
    "model.save('my_trained_model.h5')"
   ]
  },
  {
   "attachments": {},
   "cell_type": "markdown",
   "metadata": {},
   "source": [
    "# Save second model"
   ]
  },
  {
   "cell_type": "code",
   "execution_count": 14,
   "metadata": {},
   "outputs": [],
   "source": [
    "# Save the trained model as a .h5 file\n",
    "model.save('my_trained_model2.h5')"
   ]
  },
  {
   "attachments": {},
   "cell_type": "markdown",
   "metadata": {},
   "source": [
    "# Save ResNet"
   ]
  },
  {
   "cell_type": "code",
   "execution_count": 9,
   "metadata": {},
   "outputs": [],
   "source": [
    "# Save the trained model as a .h5 file\n",
    "model.save('my_trained_model3.h5')"
   ]
  },
  {
   "cell_type": "code",
   "execution_count": 4,
   "metadata": {},
   "outputs": [
    {
     "name": "stdout",
     "output_type": "stream",
     "text": [
      "1/1 [==============================] - 5s 5s/step\n"
     ]
    }
   ],
   "source": [
    "import tkinter as tk\n",
    "from tkinter import filedialog\n",
    "from tkinter import messagebox\n",
    "from PIL import ImageTk, Image\n",
    "import numpy as np\n",
    "\n",
    "# Load the saved model\n",
    "model = tf.keras.models.load_model('my_trained_model2.h5')\n",
    "img_height = img_width = 256\n",
    "# Define the class names\n",
    "class_names = ['Black Rot', 'ESCA', 'Healthy', 'Leaf Blight', ...]\n",
    "\n",
    "# Create a function to preprocess the image\n",
    "def preprocess_image(image):\n",
    "    # Resize the image to match the input size of the model\n",
    "    image = image.resize((img_height, img_width))\n",
    "    # Convert the image to a numpy array\n",
    "    image_array = np.array(image)\n",
    "    # Normalize the pixel values to be between 0 and 1\n",
    "    image_array = image_array / 255.0\n",
    "    # Expand the dimensions of the image to match the input shape of the model\n",
    "    image_array = np.expand_dims(image_array, axis=0)\n",
    "    return image_array\n",
    "\n",
    "# Create a function to classify the image\n",
    "def classify_image(image_path):\n",
    "    # Load the image\n",
    "    image = Image.open(image_path)\n",
    "    # Preprocess the image\n",
    "    image_array = preprocess_image(image)\n",
    "    # Use the model to make predictions\n",
    "    predictions = model.predict(image_array)\n",
    "    # Get the class with the highest probability\n",
    "    predicted_class = np.argmax(predictions[0])\n",
    "    # Get the class name\n",
    "    class_name = class_names[predicted_class]\n",
    "    # Get the probability of the predicted class\n",
    "    class_prob = np.max(predictions[0])\n",
    "    # Convert the probability to a percentage\n",
    "    class_percent = round(class_prob * 100, 2)\n",
    "    # Show a message box with the predicted class and percentage\n",
    "    messagebox.showinfo('Classification Result', f'The image is classified as {class_name} with {class_percent}% probability.')\n",
    "\n",
    "# Create a function to handle the upload button click\n",
    "def handle_upload():\n",
    "    # Open a file dialog to select the image file\n",
    "    file_path = filedialog.askopenfilename()\n",
    "    # Check if a file was selected\n",
    "    if file_path:\n",
    "        try:\n",
    "            # Load the image and display it in the GUI\n",
    "            image = Image.open(file_path)\n",
    "            image = image.resize((300, 300))\n",
    "            image_tk = ImageTk.PhotoImage(image)\n",
    "            canvas.itemconfig(canvas_image, image=image_tk)\n",
    "            canvas.image = image_tk\n",
    "            # Classify the image\n",
    "            classify_image(file_path)\n",
    "        except:\n",
    "            # Show an error message if there was a problem loading the image\n",
    "            messagebox.showerror('Error', 'Could not open the image file.')\n",
    "\n",
    "# Create the GUI window\n",
    "window = tk.Tk()\n",
    "window.title('Image Classifier')\n",
    "\n",
    "# Create a canvas to display the image\n",
    "canvas = tk.Canvas(window, width=300, height=300)\n",
    "canvas.pack()\n",
    "canvas_image = canvas.create_image(0, 0, anchor=tk.NW)\n",
    "\n",
    "# Create a button to upload the image\n",
    "upload_button = tk.Button(window, text='Upload Image', command=handle_upload)\n",
    "upload_button.pack()\n",
    "\n",
    "# Start the GUI main loop\n",
    "window.mainloop()\n"
   ]
  }
 ],
 "metadata": {
  "kernelspec": {
   "display_name": "Python 3",
   "language": "python",
   "name": "python3"
  },
  "language_info": {
   "codemirror_mode": {
    "name": "ipython",
    "version": 3
   },
   "file_extension": ".py",
   "mimetype": "text/x-python",
   "name": "python",
   "nbconvert_exporter": "python",
   "pygments_lexer": "ipython3",
   "version": "3.9.16"
  },
  "orig_nbformat": 4
 },
 "nbformat": 4,
 "nbformat_minor": 2
}
