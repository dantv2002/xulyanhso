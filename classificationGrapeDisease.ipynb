{
 "cells": [
  {
   "cell_type": "code",
   "execution_count": 1,
   "metadata": {},
   "outputs": [],
   "source": [
    "import os\n",
    "import tensorflow as tf\n",
    "from tensorflow.keras.preprocessing.image import ImageDataGenerator\n",
    "\n",
    "train_dir = 'E:\\\\Document\\\\HK2-2022-2023\\\\DIPR\\\\Project\\\\research\\\\GrapeDiseaseDataset\\\\OriginalData\\\\train'\n",
    "test_dir = 'E:\\\\Document\\\\HK2-2022-2023\\\\DIPR\\\\Project\\\\research\\\\GrapeDiseaseDataset\\\\OriginalData\\\\test'\n",
    "\n"
   ]
  },
  {
   "cell_type": "code",
   "execution_count": 2,
   "metadata": {},
   "outputs": [
    {
     "name": "stdout",
     "output_type": "stream",
     "text": [
      "Found 7222 images belonging to 4 classes.\n"
     ]
    }
   ],
   "source": [
    "train_datagen = ImageDataGenerator(\n",
    "    rescale=1./255,\n",
    "    rotation_range=20,\n",
    "    width_shift_range=0.2,\n",
    "    height_shift_range=0.2,\n",
    "    shear_range=0.2,\n",
    "    zoom_range=0.2,\n",
    "    horizontal_flip=True,\n",
    "    fill_mode='nearest'\n",
    ")\n",
    "train_generator = train_datagen.flow_from_directory(\n",
    "    train_dir,\n",
    "    target_size=(256, 256),\n",
    "    batch_size=32,\n",
    "    class_mode='categorical'\n",
    ")"
   ]
  },
  {
   "cell_type": "code",
   "execution_count": 3,
   "metadata": {},
   "outputs": [
    {
     "name": "stdout",
     "output_type": "stream",
     "text": [
      "Found 1805 images belonging to 4 classes.\n"
     ]
    }
   ],
   "source": [
    "test_datagen = ImageDataGenerator(rescale=1./255)\n",
    "\n",
    "test_generator = test_datagen.flow_from_directory(\n",
    "    test_dir,\n",
    "    target_size=(256, 256),\n",
    "    batch_size=32,\n",
    "    class_mode='categorical'\n",
    ")"
   ]
  },
  {
   "attachments": {},
   "cell_type": "markdown",
   "metadata": {},
   "source": [
    "# First test model"
   ]
  },
  {
   "cell_type": "code",
   "execution_count": null,
   "metadata": {},
   "outputs": [],
   "source": [
    "model = None\n",
    "model = tf.keras.Sequential([\n",
    "    tf.keras.layers.Conv2D(32, (3,3), activation='relu', input_shape=(256, 256, 3)),\n",
    "    tf.keras.layers.MaxPooling2D(2,2),\n",
    "    tf.keras.layers.Conv2D(64, (3,3), activation='relu'),\n",
    "    tf.keras.layers.MaxPooling2D(2,2),\n",
    "    tf.keras.layers.Conv2D(128, (3,3), activation='relu'),\n",
    "    tf.keras.layers.MaxPooling2D(2,2),\n",
    "    tf.keras.layers.Flatten(),\n",
    "    tf.keras.layers.Dense(128, activation='relu'),\n",
    "    tf.keras.layers.Dense(4, activation='softmax')\n",
    "])\n",
    "model.compile(loss='categorical_crossentropy',\n",
    "              optimizer=tf.keras.optimizers.Adam(),\n",
    "              metrics=['accuracy'])\n"
   ]
  },
  {
   "attachments": {},
   "cell_type": "markdown",
   "metadata": {},
   "source": [
    "# Second test model with dropout"
   ]
  },
  {
   "cell_type": "code",
   "execution_count": null,
   "metadata": {},
   "outputs": [],
   "source": [
    "model = None\n",
    "model = tf.keras.Sequential([\n",
    "    tf.keras.layers.Conv2D(32, (3,3), activation='relu', input_shape=(256, 256, 3)),\n",
    "    tf.keras.layers.MaxPooling2D(2,2),\n",
    "    tf.keras.layers.Conv2D(64, (3,3), activation='relu'),\n",
    "    tf.keras.layers.MaxPooling2D(2,2),\n",
    "    tf.keras.layers.Conv2D(128, (3,3), activation='relu'),\n",
    "    tf.keras.layers.MaxPooling2D(2,2),\n",
    "    tf.keras.layers.Flatten(),\n",
    "    tf.keras.layers.Dense(128, activation='relu'),\n",
    "    tf.keras.layers.Dropout(0.5),\n",
    "    tf.keras.layers.Dense(4, activation='softmax')\n",
    "])\n",
    "\n",
    "model.compile(loss='categorical_crossentropy',\n",
    "              optimizer=tf.keras.optimizers.Adam(),\n",
    "              metrics=['accuracy'])\n"
   ]
  },
  {
   "attachments": {},
   "cell_type": "markdown",
   "metadata": {},
   "source": [
    "# ResNet 50"
   ]
  },
  {
   "cell_type": "code",
   "execution_count": null,
   "metadata": {},
   "outputs": [],
   "source": [
    "# Define the input shape\n",
    "input_shape = (256, 256, 3)\n",
    "\n",
    "# Define the number of classes\n",
    "num_classes = 4\n",
    "\n",
    "# Define the model architecture\n",
    "inputs = tf.keras.Input(shape=input_shape)\n",
    "\n",
    "# Stage 1\n",
    "x = tf.keras.layers.Conv2D(64, (7,7), strides=(2,2), padding='same')(inputs)\n",
    "x = tf.keras.layers.BatchNormalization()(x)\n",
    "x = tf.keras.layers.Activation('relu')(x)\n",
    "x = tf.keras.layers.MaxPooling2D(pool_size=(3,3), strides=(2,2), padding='same')(x)\n",
    "\n",
    "# Stage 2\n",
    "shortcut = x\n",
    "x = tf.keras.layers.Conv2D(64, (1,1), strides=(1,1), padding='valid')(x)\n",
    "x = tf.keras.layers.BatchNormalization()(x)\n",
    "x = tf.keras.layers.Activation('relu')(x)\n",
    "x = tf.keras.layers.Conv2D(64, (3,3), strides=(1,1), padding='same')(x)\n",
    "x = tf.keras.layers.BatchNormalization()(x)\n",
    "x = tf.keras.layers.Activation('relu')(x)\n",
    "x = tf.keras.layers.Conv2D(256, (1,1), strides=(1,1), padding='valid')(x)\n",
    "x = tf.keras.layers.BatchNormalization()(x)\n",
    "shortcut = tf.keras.layers.Conv2D(256, (1,1), strides=(1,1), padding='valid')(shortcut)\n",
    "x = tf.keras.layers.Add()([x, shortcut])\n",
    "x = tf.keras.layers.Activation('relu')(x)\n",
    "\n",
    "# Stage 3\n",
    "shortcut = x\n",
    "x = tf.keras.layers.Conv2D(128, (1,1), strides=(2,2), padding='valid')(x)\n",
    "x = tf.keras.layers.BatchNormalization()(x)\n",
    "x = tf.keras.layers.Activation('relu')(x)\n",
    "x = tf.keras.layers.Conv2D(128, (3,3), strides=(1,1), padding='same')(x)\n",
    "x = tf.keras.layers.BatchNormalization()(x)\n",
    "x = tf.keras.layers.Activation('relu')(x)\n",
    "x = tf.keras.layers.Conv2D(512, (1,1), strides=(1,1), padding='valid')(x)\n",
    "x = tf.keras.layers.BatchNormalization()(x)\n",
    "shortcut = tf.keras.layers.Conv2D(512, (1,1), strides=(2,2), padding='valid')(shortcut)\n",
    "if x.shape != shortcut.shape:\n",
    "    shortcut = tf.keras.layers.Conv2D(512, (1,1), strides=(1,1), padding='valid')(shortcut)\n",
    "x = tf.keras.layers.Add()([x, shortcut])\n",
    "x = tf.keras.layers.Activation('relu')(x)\n",
    "\n",
    "#Stage 4\n",
    "shortcut = x\n",
    "x = tf.keras.layers.Conv2D(256, (1,1), strides=(2,2), padding='valid')(x)\n",
    "x = tf.keras.layers.BatchNormalization()(x)\n",
    "x = tf.keras.layers.Activation('relu')(x)\n",
    "x = tf.keras.layers.Conv2D(256, (3,3), strides=(1,1), padding='same')(x)\n",
    "x = tf.keras.layers.BatchNormalization()(x)\n",
    "x = tf.keras.layers.Activation('relu')(x)\n",
    "x = tf.keras.layers.Conv2D(1024, (1,1), strides=(1,1), padding='valid')(x)\n",
    "x = tf.keras.layers.BatchNormalization()(x)\n",
    "shortcut = tf.keras.layers.Conv2D(1024, (1,1), strides=(2,2), padding='valid')(shortcut)\n",
    "if x.shape != shortcut.shape:\n",
    "    shortcut = tf.keras.layers.Conv2D(1024, (1,1), strides=(1,1), padding='valid')(shortcut)\n",
    "x = tf.keras.layers.Add()([x, shortcut])\n",
    "x = tf.keras.layers.Activation('relu')(x)\n",
    "\n",
    "#Stage 5\n",
    "shortcut = x\n",
    "x = tf.keras.layers.Conv2D(512, (1,1), strides=(2,2), padding='valid')(x)\n",
    "x = tf.keras.layers.BatchNormalization()(x)\n",
    "x = tf.keras.layers.Activation('relu')(x)\n",
    "x = tf.keras.layers.Conv2D(512, (3,3), strides=(1,1), padding='same')(x)\n",
    "x = tf.keras.layers.BatchNormalization()(x)\n",
    "x = tf.keras.layers.Activation('relu')(x)\n",
    "x = tf.keras.layers.Conv2D(2048, (1,1), strides=(1,1), padding='valid')(x)\n",
    "x = tf.keras.layers.BatchNormalization()(x)\n",
    "shortcut = tf.keras.layers.Conv2D(2048, (1,1), strides=(2,2), padding='valid')(shortcut)\n",
    "if x.shape != shortcut.shape:\n",
    "    shortcut = tf.keras.layers.Conv2D(2048, (1,1), strides=(1,1), padding='valid')(shortcut)\n",
    "x = tf.keras.layers.Add()([x, shortcut])\n",
    "x = tf.keras.layers.Activation('relu')(x)\n",
    "\n",
    "#Final layers\n",
    "x = tf.keras.layers.AveragePooling2D((7, 7))(x)\n",
    "x = tf.keras.layers.Flatten()(x)\n",
    "x = tf.keras.layers.Dense(4, activation='softmax')(x)\n",
    "\n",
    "#Create Model\n",
    "model = None\n",
    "model = tf.keras.models.Model(inputs=inputs, outputs=x)\n",
    "# Compile the model\n",
    "model.compile(\n",
    "    optimizer=tf.keras.optimizers.Adam(learning_rate=0.001),\n",
    "    loss=tf.keras.losses.CategoricalCrossentropy(from_logits=True),\n",
    "    metrics=['accuracy']\n",
    ")\n"
   ]
  },
  {
   "attachments": {},
   "cell_type": "markdown",
   "metadata": {},
   "source": [
    "# With dropout"
   ]
  },
  {
   "cell_type": "code",
   "execution_count": 4,
   "metadata": {},
   "outputs": [],
   "source": [
    "# Define the input shape\n",
    "input_shape = (256, 256, 3)\n",
    "\n",
    "# Define the number of classes\n",
    "num_classes = 4\n",
    "\n",
    "# Define the model architecture\n",
    "inputs = tf.keras.Input(shape=input_shape)\n",
    "\n",
    "# Stage 1\n",
    "x = tf.keras.layers.Conv2D(64, (7,7), strides=(2,2), padding='same')(inputs)\n",
    "x = tf.keras.layers.BatchNormalization()(x)\n",
    "x = tf.keras.layers.Activation('relu')(x)\n",
    "x = tf.keras.layers.MaxPooling2D(pool_size=(3,3), strides=(2,2), padding='same')(x)\n",
    "\n",
    "# Stage 2\n",
    "shortcut = x\n",
    "x = tf.keras.layers.Conv2D(64, (1,1), strides=(1,1), padding='valid')(x)\n",
    "x = tf.keras.layers.BatchNormalization()(x)\n",
    "x = tf.keras.layers.Activation('relu')(x)\n",
    "x = tf.keras.layers.Conv2D(64, (3,3), strides=(1,1), padding='same')(x)\n",
    "x = tf.keras.layers.BatchNormalization()(x)\n",
    "x = tf.keras.layers.Activation('relu')(x)\n",
    "x = tf.keras.layers.Conv2D(256, (1,1), strides=(1,1), padding='valid')(x)\n",
    "x = tf.keras.layers.BatchNormalization()(x)\n",
    "shortcut = tf.keras.layers.Conv2D(256, (1,1), strides=(1,1), padding='valid')(shortcut)\n",
    "x = tf.keras.layers.Add()([x, shortcut])\n",
    "x = tf.keras.layers.Activation('relu')(x)\n",
    "\n",
    "# Stage 3\n",
    "shortcut = x\n",
    "x = tf.keras.layers.Conv2D(128, (1,1), strides=(2,2), padding='valid')(x)\n",
    "x = tf.keras.layers.BatchNormalization()(x)\n",
    "x = tf.keras.layers.Activation('relu')(x)\n",
    "x = tf.keras.layers.Conv2D(128, (3,3), strides=(1,1), padding='same')(x)\n",
    "x = tf.keras.layers.BatchNormalization()(x)\n",
    "x = tf.keras.layers.Activation('relu')(x)\n",
    "x = tf.keras.layers.Conv2D(512, (1,1), strides=(1,1), padding='valid')(x)\n",
    "x = tf.keras.layers.BatchNormalization()(x)\n",
    "shortcut = tf.keras.layers.Conv2D(512, (1,1), strides=(2,2), padding='valid')(shortcut)\n",
    "if x.shape != shortcut.shape:\n",
    "    shortcut = tf.keras.layers.Conv2D(512, (1,1), strides=(1,1), padding='valid')(shortcut)\n",
    "x = tf.keras.layers.Add()([x, shortcut])\n",
    "x = tf.keras.layers.Activation('relu')(x)\n",
    "\n",
    "#Stage 4\n",
    "shortcut = x\n",
    "x = tf.keras.layers.Conv2D(256, (1,1), strides=(2,2), padding='valid')(x)\n",
    "x = tf.keras.layers.BatchNormalization()(x)\n",
    "x = tf.keras.layers.Activation('relu')(x)\n",
    "x = tf.keras.layers.Conv2D(256, (3,3), strides=(1,1), padding='same')(x)\n",
    "x = tf.keras.layers.BatchNormalization()(x)\n",
    "x = tf.keras.layers.Activation('relu')(x)\n",
    "x = tf.keras.layers.Conv2D(1024, (1,1), strides=(1,1), padding='valid')(x)\n",
    "x = tf.keras.layers.BatchNormalization()(x)\n",
    "shortcut = tf.keras.layers.Conv2D(1024, (1,1), strides=(2,2), padding='valid')(shortcut)\n",
    "if x.shape != shortcut.shape:\n",
    "    shortcut = tf.keras.layers.Conv2D(1024, (1,1), strides=(1,1), padding='valid')(shortcut)\n",
    "x = tf.keras.layers.Add()([x, shortcut])\n",
    "x = tf.keras.layers.Activation('relu')(x)\n",
    "\n",
    "#Stage 5\n",
    "shortcut = x\n",
    "x = tf.keras.layers.Conv2D(512, (1,1), strides=(2,2), padding='valid')(x)\n",
    "x = tf.keras.layers.BatchNormalization()(x)\n",
    "x = tf.keras.layers.Activation('relu')(x)\n",
    "x = tf.keras.layers.Conv2D(512, (3,3), strides=(1,1), padding='same')(x)\n",
    "x = tf.keras.layers.BatchNormalization()(x)\n",
    "x = tf.keras.layers.Activation('relu')(x)\n",
    "x = tf.keras.layers.Conv2D(2048, (1,1), strides=(1,1), padding='valid')(x)\n",
    "x = tf.keras.layers.BatchNormalization()(x)\n",
    "shortcut = tf.keras.layers.Conv2D(2048, (1,1), strides=(2,2), padding='valid')(shortcut)\n",
    "if x.shape != shortcut.shape:\n",
    "    shortcut = tf.keras.layers.Conv2D(2048, (1,1), strides=(1,1), padding='valid')(shortcut)\n",
    "x = tf.keras.layers.Add()([x, shortcut])\n",
    "x = tf.keras.layers.Activation('relu')(x)\n",
    "\n",
    "# Final layers\n",
    "x = tf.keras.layers.AveragePooling2D((7, 7))(x)\n",
    "x = tf.keras.layers.Flatten()(x)\n",
    "x = tf.keras.layers.Dropout(0.5)(x)\n",
    "x = tf.keras.layers.Dense(4, activation='softmax')(x)\n",
    "\n",
    "#Create Model\n",
    "model = None\n",
    "model = tf.keras.models.Model(inputs=inputs, outputs=x)\n",
    "# Compile the model\n",
    "model.compile(\n",
    "    optimizer=tf.keras.optimizers.Adam(learning_rate=0.001),\n",
    "    loss=tf.keras.losses.CategoricalCrossentropy(from_logits=True),\n",
    "    metrics=['accuracy']\n",
    ")\n"
   ]
  },
  {
   "cell_type": "code",
   "execution_count": 5,
   "metadata": {},
   "outputs": [
    {
     "name": "stdout",
     "output_type": "stream",
     "text": [
      "Epoch 1/50\n"
     ]
    },
    {
     "name": "stderr",
     "output_type": "stream",
     "text": [
      "c:\\Users\\TVD\\anaconda3\\envs\\tf\\lib\\site-packages\\keras\\backend.py:5531: UserWarning: \"`categorical_crossentropy` received `from_logits=True`, but the `output` argument was produced by a Softmax activation and thus does not represent logits. Was this intended?\n",
      "  output, from_logits = _get_logits(\n"
     ]
    },
    {
     "name": "stdout",
     "output_type": "stream",
     "text": [
      "226/226 [==============================] - 240s 973ms/step - loss: 0.5346 - accuracy: 0.8228 - val_loss: 1.3710 - val_accuracy: 0.4975\n",
      "Epoch 2/50\n",
      "226/226 [==============================] - 87s 384ms/step - loss: 0.2709 - accuracy: 0.9050 - val_loss: 10.5966 - val_accuracy: 0.4460\n",
      "Epoch 3/50\n",
      "226/226 [==============================] - 86s 378ms/step - loss: 0.2305 - accuracy: 0.9223 - val_loss: 2.5949 - val_accuracy: 0.6576\n",
      "Epoch 4/50\n",
      "226/226 [==============================] - 85s 377ms/step - loss: 0.1532 - accuracy: 0.9493 - val_loss: 4.3894 - val_accuracy: 0.6271\n",
      "Epoch 5/50\n",
      "226/226 [==============================] - 93s 408ms/step - loss: 0.1390 - accuracy: 0.9556 - val_loss: 2.0006 - val_accuracy: 0.6781\n",
      "Epoch 6/50\n",
      "226/226 [==============================] - 92s 404ms/step - loss: 0.1176 - accuracy: 0.9601 - val_loss: 19.3437 - val_accuracy: 0.3330\n",
      "Epoch 7/50\n",
      "226/226 [==============================] - 112s 497ms/step - loss: 0.1010 - accuracy: 0.9651 - val_loss: 29.8532 - val_accuracy: 0.3773\n",
      "Epoch 8/50\n",
      "226/226 [==============================] - 92s 407ms/step - loss: 0.1147 - accuracy: 0.9632 - val_loss: 2.3563 - val_accuracy: 0.5490\n",
      "Epoch 9/50\n",
      "226/226 [==============================] - 86s 380ms/step - loss: 0.0776 - accuracy: 0.9740 - val_loss: 1.6541 - val_accuracy: 0.7330\n",
      "Epoch 10/50\n",
      "226/226 [==============================] - 86s 379ms/step - loss: 0.0955 - accuracy: 0.9675 - val_loss: 2.3303 - val_accuracy: 0.6792\n",
      "Epoch 11/50\n",
      "226/226 [==============================] - 86s 379ms/step - loss: 0.0668 - accuracy: 0.9762 - val_loss: 0.2792 - val_accuracy: 0.9014\n",
      "Epoch 12/50\n",
      "226/226 [==============================] - 86s 379ms/step - loss: 0.0549 - accuracy: 0.9817 - val_loss: 0.1648 - val_accuracy: 0.9474\n",
      "Epoch 13/50\n",
      "226/226 [==============================] - 85s 377ms/step - loss: 0.0449 - accuracy: 0.9850 - val_loss: 2.1541 - val_accuracy: 0.6859\n",
      "Epoch 14/50\n",
      "226/226 [==============================] - 87s 386ms/step - loss: 0.0631 - accuracy: 0.9791 - val_loss: 6.2777 - val_accuracy: 0.5130\n",
      "Epoch 15/50\n",
      "226/226 [==============================] - 86s 379ms/step - loss: 0.0514 - accuracy: 0.9827 - val_loss: 0.8132 - val_accuracy: 0.8050\n",
      "Epoch 16/50\n",
      "226/226 [==============================] - 86s 378ms/step - loss: 0.0591 - accuracy: 0.9799 - val_loss: 3.3811 - val_accuracy: 0.6349\n",
      "Epoch 17/50\n",
      "226/226 [==============================] - 89s 395ms/step - loss: 0.0620 - accuracy: 0.9784 - val_loss: 0.2650 - val_accuracy: 0.9446\n",
      "Epoch 18/50\n",
      "226/226 [==============================] - 87s 386ms/step - loss: 0.0626 - accuracy: 0.9805 - val_loss: 0.6822 - val_accuracy: 0.8299\n",
      "Epoch 19/50\n",
      "226/226 [==============================] - 88s 386ms/step - loss: 0.0441 - accuracy: 0.9846 - val_loss: 0.7281 - val_accuracy: 0.8465\n",
      "Epoch 20/50\n",
      "226/226 [==============================] - 81s 356ms/step - loss: 0.0405 - accuracy: 0.9866 - val_loss: 0.1553 - val_accuracy: 0.9485\n",
      "Epoch 21/50\n",
      "226/226 [==============================] - 82s 361ms/step - loss: 0.0441 - accuracy: 0.9835 - val_loss: 12.0715 - val_accuracy: 0.4515\n",
      "Epoch 22/50\n",
      "226/226 [==============================] - 81s 356ms/step - loss: 0.0509 - accuracy: 0.9808 - val_loss: 1.9526 - val_accuracy: 0.6742\n",
      "Epoch 23/50\n",
      "226/226 [==============================] - 81s 359ms/step - loss: 0.0430 - accuracy: 0.9846 - val_loss: 0.4576 - val_accuracy: 0.8947\n",
      "Epoch 24/50\n",
      "226/226 [==============================] - 80s 355ms/step - loss: 0.0323 - accuracy: 0.9902 - val_loss: 0.0205 - val_accuracy: 0.9928\n",
      "Epoch 25/50\n",
      "226/226 [==============================] - 81s 360ms/step - loss: 0.0330 - accuracy: 0.9889 - val_loss: 1.7229 - val_accuracy: 0.7596\n",
      "Epoch 26/50\n",
      "226/226 [==============================] - 81s 357ms/step - loss: 0.0361 - accuracy: 0.9893 - val_loss: 3.5113 - val_accuracy: 0.7141\n",
      "Epoch 27/50\n",
      "226/226 [==============================] - 80s 353ms/step - loss: 0.0491 - accuracy: 0.9844 - val_loss: 2.6457 - val_accuracy: 0.7285\n",
      "Epoch 28/50\n",
      "226/226 [==============================] - 82s 361ms/step - loss: 0.0279 - accuracy: 0.9911 - val_loss: 0.2139 - val_accuracy: 0.9324\n",
      "Epoch 29/50\n",
      "226/226 [==============================] - 81s 358ms/step - loss: 0.0295 - accuracy: 0.9899 - val_loss: 0.4944 - val_accuracy: 0.8604\n",
      "Epoch 30/50\n",
      "226/226 [==============================] - 80s 355ms/step - loss: 0.0380 - accuracy: 0.9881 - val_loss: 0.3138 - val_accuracy: 0.9363\n",
      "Epoch 31/50\n",
      "226/226 [==============================] - 81s 357ms/step - loss: 0.0447 - accuracy: 0.9868 - val_loss: 0.1546 - val_accuracy: 0.9468\n",
      "Epoch 32/50\n",
      "226/226 [==============================] - 81s 359ms/step - loss: 0.0270 - accuracy: 0.9910 - val_loss: 0.3113 - val_accuracy: 0.9551\n",
      "Epoch 33/50\n",
      "226/226 [==============================] - 80s 354ms/step - loss: 0.0287 - accuracy: 0.9903 - val_loss: 13.9769 - val_accuracy: 0.4349\n",
      "Epoch 34/50\n",
      "226/226 [==============================] - 86s 379ms/step - loss: 0.0160 - accuracy: 0.9939 - val_loss: 3.1829 - val_accuracy: 0.7368\n",
      "Epoch 35/50\n",
      "226/226 [==============================] - 86s 381ms/step - loss: 0.0316 - accuracy: 0.9900 - val_loss: 1.2281 - val_accuracy: 0.7839\n",
      "Epoch 36/50\n",
      "226/226 [==============================] - 85s 377ms/step - loss: 0.0435 - accuracy: 0.9867 - val_loss: 2.1389 - val_accuracy: 0.5729\n",
      "Epoch 37/50\n",
      "226/226 [==============================] - 86s 379ms/step - loss: 0.0213 - accuracy: 0.9932 - val_loss: 1.5002 - val_accuracy: 0.7496\n",
      "Epoch 38/50\n",
      "226/226 [==============================] - 85s 376ms/step - loss: 0.0406 - accuracy: 0.9867 - val_loss: 0.3325 - val_accuracy: 0.9014\n",
      "Epoch 39/50\n",
      "226/226 [==============================] - 85s 377ms/step - loss: 0.0262 - accuracy: 0.9907 - val_loss: 0.0292 - val_accuracy: 0.9889\n",
      "Epoch 40/50\n",
      "226/226 [==============================] - 85s 375ms/step - loss: 0.0251 - accuracy: 0.9921 - val_loss: 2.8435 - val_accuracy: 0.7435\n",
      "Epoch 41/50\n",
      "226/226 [==============================] - 85s 375ms/step - loss: 0.0342 - accuracy: 0.9893 - val_loss: 0.4715 - val_accuracy: 0.8875\n",
      "Epoch 42/50\n",
      "226/226 [==============================] - 87s 382ms/step - loss: 0.0188 - accuracy: 0.9942 - val_loss: 0.0082 - val_accuracy: 0.9967\n",
      "Epoch 43/50\n",
      "226/226 [==============================] - 85s 376ms/step - loss: 0.0150 - accuracy: 0.9957 - val_loss: 1.1008 - val_accuracy: 0.8665\n",
      "Epoch 44/50\n",
      "226/226 [==============================] - 86s 378ms/step - loss: 0.0224 - accuracy: 0.9924 - val_loss: 0.2547 - val_accuracy: 0.9296\n",
      "Epoch 45/50\n",
      "226/226 [==============================] - 85s 376ms/step - loss: 0.0202 - accuracy: 0.9940 - val_loss: 4.6573 - val_accuracy: 0.6332\n",
      "Epoch 46/50\n",
      "226/226 [==============================] - 85s 376ms/step - loss: 0.0306 - accuracy: 0.9900 - val_loss: 0.1735 - val_accuracy: 0.9518\n",
      "Epoch 47/50\n",
      "226/226 [==============================] - 85s 376ms/step - loss: 0.0236 - accuracy: 0.9938 - val_loss: 0.0345 - val_accuracy: 0.9911\n",
      "Epoch 48/50\n",
      "226/226 [==============================] - 86s 379ms/step - loss: 0.0202 - accuracy: 0.9931 - val_loss: 0.3469 - val_accuracy: 0.9302\n",
      "Epoch 49/50\n",
      "226/226 [==============================] - 86s 380ms/step - loss: 0.0358 - accuracy: 0.9898 - val_loss: 0.0709 - val_accuracy: 0.9817\n",
      "Epoch 50/50\n",
      "226/226 [==============================] - 85s 377ms/step - loss: 0.0332 - accuracy: 0.9913 - val_loss: 1.1819 - val_accuracy: 0.8122\n"
     ]
    }
   ],
   "source": [
    "history = model.fit(\n",
    "    train_generator,\n",
    "    epochs=50,\n",
    "    validation_data=test_generator\n",
    ")\n"
   ]
  },
  {
   "cell_type": "code",
   "execution_count": 6,
   "metadata": {},
   "outputs": [
    {
     "name": "stdout",
     "output_type": "stream",
     "text": [
      "57/57 [==============================] - 5s 79ms/step - loss: 1.1819 - accuracy: 0.8122\n"
     ]
    },
    {
     "data": {
      "text/plain": [
       "[1.1819442510604858, 0.8121883869171143]"
      ]
     },
     "execution_count": 6,
     "metadata": {},
     "output_type": "execute_result"
    }
   ],
   "source": [
    "model.evaluate(test_generator)"
   ]
  },
  {
   "attachments": {},
   "cell_type": "markdown",
   "metadata": {},
   "source": [
    "# Save first model"
   ]
  },
  {
   "cell_type": "code",
   "execution_count": null,
   "metadata": {},
   "outputs": [],
   "source": [
    "# Save the trained model as a .h5 file\n",
    "model.save('my_trained_model.h5')"
   ]
  },
  {
   "attachments": {},
   "cell_type": "markdown",
   "metadata": {},
   "source": [
    "# Save second model"
   ]
  },
  {
   "cell_type": "code",
   "execution_count": null,
   "metadata": {},
   "outputs": [],
   "source": [
    "# Save the trained model as a .h5 file\n",
    "model.save('my_trained_model2.h5')"
   ]
  },
  {
   "attachments": {},
   "cell_type": "markdown",
   "metadata": {},
   "source": [
    "# Save ResNet"
   ]
  },
  {
   "cell_type": "code",
   "execution_count": null,
   "metadata": {},
   "outputs": [],
   "source": [
    "# Save the trained model as a .h5 file\n",
    "model.save('my_trained_model3.h5')"
   ]
  },
  {
   "attachments": {},
   "cell_type": "markdown",
   "metadata": {},
   "source": [
    "# Save ResNet with droput"
   ]
  },
  {
   "cell_type": "code",
   "execution_count": 7,
   "metadata": {},
   "outputs": [],
   "source": [
    "# Save the trained model as a .h5 file\n",
    "model.save('my_trained_model4.h5')"
   ]
  },
  {
   "cell_type": "code",
   "execution_count": 8,
   "metadata": {},
   "outputs": [
    {
     "name": "stdout",
     "output_type": "stream",
     "text": [
      "1/1 [==============================] - 1s 870ms/step\n",
      "1/1 [==============================] - 0s 24ms/step\n",
      "1/1 [==============================] - 0s 22ms/step\n",
      "1/1 [==============================] - 0s 26ms/step\n",
      "1/1 [==============================] - 0s 22ms/step\n",
      "1/1 [==============================] - 0s 25ms/step\n",
      "1/1 [==============================] - 0s 22ms/step\n",
      "1/1 [==============================] - 0s 21ms/step\n"
     ]
    }
   ],
   "source": [
    "import tkinter as tk\n",
    "from tkinter import filedialog\n",
    "from tkinter import messagebox\n",
    "from PIL import ImageTk, Image\n",
    "import numpy as np\n",
    "\n",
    "# Load the saved model\n",
    "model = tf.keras.models.load_model('my_trained_model4.h5')\n",
    "img_height = img_width = 256\n",
    "# Define the class names\n",
    "class_names = ['Black Rot', 'ESCA', 'Healthy', 'Leaf Blight', ...]\n",
    "\n",
    "# Create a function to preprocess the image\n",
    "def preprocess_image(image):\n",
    "    # Resize the image to match the input size of the model\n",
    "    image = image.resize((img_height, img_width))\n",
    "    # Convert the image to a numpy array\n",
    "    image_array = np.array(image)\n",
    "    # Normalize the pixel values to be between 0 and 1\n",
    "    image_array = image_array / 255.0\n",
    "    # Expand the dimensions of the image to match the input shape of the model\n",
    "    image_array = np.expand_dims(image_array, axis=0)\n",
    "    return image_array\n",
    "\n",
    "# Create a function to classify the image\n",
    "def classify_image(image_path):\n",
    "    # Load the image\n",
    "    image = Image.open(image_path)\n",
    "    # Preprocess the image\n",
    "    image_array = preprocess_image(image)\n",
    "    # Use the model to make predictions\n",
    "    predictions = model.predict(image_array)\n",
    "    # Get the class with the highest probability\n",
    "    predicted_class = np.argmax(predictions[0])\n",
    "    # Get the class name\n",
    "    class_name = class_names[predicted_class]\n",
    "    # Get the probability of the predicted class\n",
    "    class_prob = np.max(predictions[0])\n",
    "    # Convert the probability to a percentage\n",
    "    class_percent = round(class_prob * 100, 2)\n",
    "    # Show a message box with the predicted class and percentage\n",
    "    messagebox.showinfo('Classification Result', f'The image is classified as {class_name} with {class_percent}% probability.')\n",
    "\n",
    "# Create a function to handle the upload button click\n",
    "def handle_upload():\n",
    "    # Open a file dialog to select the image file\n",
    "    file_path = filedialog.askopenfilename()\n",
    "    # Check if a file was selected\n",
    "    if file_path:\n",
    "        try:\n",
    "            # Load the image and display it in the GUI\n",
    "            image = Image.open(file_path)\n",
    "            image = image.resize((300, 300))\n",
    "            image_tk = ImageTk.PhotoImage(image)\n",
    "            canvas.itemconfig(canvas_image, image=image_tk)\n",
    "            canvas.image = image_tk\n",
    "            # Classify the image\n",
    "            classify_image(file_path)\n",
    "        except:\n",
    "            # Show an error message if there was a problem loading the image\n",
    "            messagebox.showerror('Error', 'Could not open the image file.')\n",
    "\n",
    "# Create the GUI window\n",
    "window = tk.Tk()\n",
    "window.title('Image Classifier')\n",
    "\n",
    "# Create a canvas to display the image\n",
    "canvas = tk.Canvas(window, width=300, height=300)\n",
    "canvas.pack()\n",
    "canvas_image = canvas.create_image(0, 0, anchor=tk.NW)\n",
    "\n",
    "# Create a button to upload the image\n",
    "upload_button = tk.Button(window, text='Upload Image', command=handle_upload)\n",
    "upload_button.pack()\n",
    "\n",
    "# Start the GUI main loop\n",
    "window.mainloop()\n"
   ]
  }
 ],
 "metadata": {
  "kernelspec": {
   "display_name": "Python 3",
   "language": "python",
   "name": "python3"
  },
  "language_info": {
   "codemirror_mode": {
    "name": "ipython",
    "version": 3
   },
   "file_extension": ".py",
   "mimetype": "text/x-python",
   "name": "python",
   "nbconvert_exporter": "python",
   "pygments_lexer": "ipython3",
   "version": "3.9.16"
  },
  "orig_nbformat": 4
 },
 "nbformat": 4,
 "nbformat_minor": 2
}
